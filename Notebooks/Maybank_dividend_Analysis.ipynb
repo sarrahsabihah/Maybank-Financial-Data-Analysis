{
  "nbformat": 4,
  "nbformat_minor": 0,
  "metadata": {
    "colab": {
      "provenance": []
    },
    "kernelspec": {
      "name": "python3",
      "display_name": "Python 3"
    },
    "language_info": {
      "name": "python"
    }
  },
  "cells": [
    {
      "cell_type": "code",
      "execution_count": 3,
      "metadata": {
        "colab": {
          "base_uri": "https://localhost:8080/"
        },
        "id": "9ZNnMq9jy3I6",
        "outputId": "d01c7365-69ea-4bf5-f605-59a415e4b810"
      },
      "outputs": [
        {
          "output_type": "stream",
          "name": "stdout",
          "text": [
            "Analysis complete. Three JSON files (eps_trend_over_time.json, dps_trend_over_time.json, payout_ratio_trend_over_time.json) have been generated.\n"
          ]
        }
      ],
      "source": [
        "import pandas as pd\n",
        "import altair as alt\n",
        "\n",
        "df = pd.read_csv('/dataset_mb.csv')\n",
        "df.columns = df.columns.str.strip()\n",
        "df['Year'] = pd.to_datetime(df['Year'])\n",
        "df['Payout Ratio'] = (df['DPS (Dividend Per Share)'] / (df['EPS (earnings per share)'] + 1e-9)) * 100\n",
        "grouped_data = df.groupby('Year')[['EPS (earnings per share)', 'DPS (Dividend Per Share)', 'Payout Ratio']].mean().reset_index()\n",
        "\n",
        "eps_chart = alt.Chart(grouped_data).mark_line(point=True).encode(\n",
        "    x=alt.X('Year', axis=alt.Axis(title='Year')),\n",
        "    y=alt.Y('EPS (earnings per share)', axis=alt.Axis(title='EPS')),\n",
        "    tooltip=[alt.Tooltip('Year', format='%Y'), 'EPS (earnings per share)']\n",
        ").properties(\n",
        "    title='EPS Trend Over Time'\n",
        ").interactive()\n",
        "\n",
        "dps_chart = alt.Chart(grouped_data).mark_line(point=True).encode(\n",
        "    x=alt.X('Year', axis=alt.Axis(title='Year')),\n",
        "    y=alt.Y('DPS (Dividend Per Share)', axis=alt.Axis(title='DPS')),\n",
        "    tooltip=[alt.Tooltip('Year', format='%Y'), 'DPS (Dividend Per Share)']\n",
        ").properties(\n",
        "    title='DPS Trend Over Time'\n",
        ").interactive()\n",
        "\n",
        "payout_chart = alt.Chart(grouped_data).mark_line(point=True).encode(\n",
        "    x=alt.X('Year', axis=alt.Axis(title='Year')),\n",
        "    y=alt.Y('Payout Ratio', axis=alt.Axis(title='Payout Ratio')),\n",
        "    tooltip=[alt.Tooltip('Year', format='%Y'), alt.Tooltip('Payout Ratio', format='.2f')]\n",
        ").properties(\n",
        "    title='Payout Ratio Trend Over Time'\n",
        ").interactive()\n",
        "\n",
        "eps_chart.save('eps_trend_over_time.json')\n",
        "dps_chart.save('dps_trend_over_time.json')\n",
        "payout_chart.save('payout_ratio_trend_over_time.json')\n",
        "\n",
        "print(\"Analysis complete. Three JSON files (eps_trend_over_time.json, dps_trend_over_time.json, payout_ratio_trend_over_time.json) have been generated.\")\n"
      ]
    },
    {
      "cell_type": "code",
      "source": [],
      "metadata": {
        "id": "LQm0-sm-zMID"
      },
      "execution_count": null,
      "outputs": []
    }
  ]
}